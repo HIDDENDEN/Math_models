{
  "nbformat": 4,
  "nbformat_minor": 0,
  "metadata": {
    "colab": {
      "name": "MyWork.ipynb",
      "provenance": [],
      "collapsed_sections": [],
      "mount_file_id": "1joemW8ye__Q1_RhM0432FbtW2JaBE8V8",
      "authorship_tag": "ABX9TyPGvMVP/qbsOf9fuEkyN7jr",
      "include_colab_link": true
    },
    "kernelspec": {
      "name": "python3",
      "display_name": "Python 3"
    }
  },
  "cells": [
    {
      "cell_type": "markdown",
      "metadata": {
        "id": "view-in-github",
        "colab_type": "text"
      },
      "source": [
        "<a href=\"https://colab.research.google.com/github/HIDDENDEN/Math_models/blob/main/MyWork.ipynb\" target=\"_parent\"><img src=\"https://colab.research.google.com/assets/colab-badge.svg\" alt=\"Open In Colab\"/></a>"
      ]
    },
    {
      "cell_type": "markdown",
      "metadata": {
        "id": "4YGAxUpyNn6U"
      },
      "source": [
        "Importing template ...\n"
      ]
    },
    {
      "cell_type": "code",
      "metadata": {
        "id": "4mN1h18Jx8gq"
      },
      "source": [
        "# !cp \"drive/My Drive/Science_res/TestClass.py\" .\n",
        "# import TestClass\n"
      ],
      "execution_count": 67,
      "outputs": []
    },
    {
      "cell_type": "code",
      "metadata": {
        "id": "cO1Ybw7tt4z5"
      },
      "source": [
        "# test = TestClass.Vehicle(1,1,1)"
      ],
      "execution_count": 68,
      "outputs": []
    },
    {
      "cell_type": "code",
      "metadata": {
        "id": "-nY2zVEwu6ut"
      },
      "source": [
        "# print(test.brake())"
      ],
      "execution_count": 69,
      "outputs": []
    },
    {
      "cell_type": "markdown",
      "metadata": {
        "id": "WQ6jKBQmNyUt"
      },
      "source": [
        "import my classes"
      ]
    },
    {
      "cell_type": "code",
      "metadata": {
        "id": "xb6JxSIHN9fG"
      },
      "source": [
        "!cp \"drive/My Drive/Science_res/At.py\" .\n",
        "import At\n",
        "\n",
        "!cp \"drive/My Drive/Science_res/Fiu.py\" .\n",
        "import Fiu\n",
        "\n",
        "!cp \"drive/My Drive/Science_res/Alphax.py\" .\n",
        "import Alphax\n",
        "\n",
        "!cp \"drive/My Drive/Science_res/Kcit.py\" .\n",
        "import Kcit\n"
      ],
      "execution_count": 70,
      "outputs": []
    },
    {
      "cell_type": "markdown",
      "metadata": {
        "id": "nPbzFN-fX9qs"
      },
      "source": [
        "initialize functions"
      ]
    },
    {
      "cell_type": "code",
      "metadata": {
        "id": "8UKD0qJIYDJj"
      },
      "source": [
        "a_t = At.A_t()\n",
        "kci_t = Kcit.Kci_t()\n",
        "fi_u = Fiu.Fi_t()\n",
        "alpha_x = Alphax.Alpha_x()"
      ],
      "execution_count": 71,
      "outputs": []
    },
    {
      "cell_type": "markdown",
      "metadata": {
        "id": "uu8sSA0fSAle"
      },
      "source": [
        "Import needed libs"
      ]
    },
    {
      "cell_type": "markdown",
      "metadata": {
        "id": "W4gV9VuuZyJ9"
      },
      "source": [
        ""
      ]
    },
    {
      "cell_type": "code",
      "metadata": {
        "id": "2_idaG_2SC7e"
      },
      "source": [
        "import numpy as np\n"
      ],
      "execution_count": 72,
      "outputs": []
    },
    {
      "cell_type": "markdown",
      "metadata": {
        "id": "lrCkxh7IQNuG"
      },
      "source": [
        "Set steps size of X axys and T axys\n",
        "\n",
        "\n",
        "And *x_0* , *t_0*"
      ]
    },
    {
      "cell_type": "code",
      "metadata": {
        "id": "RYLfXbRyQZzT"
      },
      "source": [
        "# Test L = 1 and T = 1\n",
        "# Test num_of_steps N_x = 10 , N_y = 10\n",
        "L = 1\n",
        "T = 1\n",
        "N_x = 10\n",
        "N_y = 10\n",
        "\n",
        "h_x = L/N_x\n",
        "h_t = T/N_y\n",
        "\n",
        "#Test segment 0 <= x <= 1\n",
        "#Test segment 0 <= t <= 1\n",
        "\n",
        "x_0 = 0\n",
        "t_0 = 0"
      ],
      "execution_count": 73,
      "outputs": []
    },
    {
      "cell_type": "markdown",
      "metadata": {
        "id": "kRvp8-OsRrfH"
      },
      "source": [
        "**Initialize two dim matrix for data storage**"
      ]
    },
    {
      "cell_type": "code",
      "metadata": {
        "id": "_jMqm3W5R0Uy"
      },
      "source": [
        "matrix = np.zeros((N_x + 1,N_y + 1))"
      ],
      "execution_count": 74,
      "outputs": []
    },
    {
      "cell_type": "markdown",
      "metadata": {
        "id": "XseSKSFgUfOK"
      },
      "source": [
        "**Filling matrix with border conditions**"
      ]
    },
    {
      "cell_type": "code",
      "metadata": {
        "id": "Dh-ixWrbXDPd"
      },
      "source": [
        "# First row filled with alpha(x_j)\n",
        "for j in range(0, N_x+1):\n",
        "  matrix[0][j] = alpha_x.compute(x_0 + h_x*j)\n",
        "\n",
        "# First colomn filled with kci(t_i)\n",
        "for i in range(0, N_y+1):\n",
        "  matrix[i][0] = kci_t.compute(t_0 + h_t*i)\n",
        "\n",
        "# print(matrix)"
      ],
      "execution_count": 75,
      "outputs": []
    },
    {
      "cell_type": "markdown",
      "metadata": {
        "id": "bDzOsIric4Ce"
      },
      "source": [
        "*Define function for matrix computing*"
      ]
    },
    {
      "cell_type": "code",
      "metadata": {
        "id": "GRSZqf9oc-bj"
      },
      "source": [
        "def calculate_node(i,j,const_steps,x_i,t_j,matrix):\n",
        "  return (const_steps * (matrix[i][j-1]/h_t + matrix[i-1][j]/h_x - a_t.compute(t_j-h_t)*fi_u.compute(matrix[i-1][j-1]) ) )\n"
      ],
      "execution_count": 78,
      "outputs": []
    },
    {
      "cell_type": "markdown",
      "metadata": {
        "id": "QFWydPdza_xO"
      },
      "source": [
        "**Compute whole matrix**"
      ]
    },
    {
      "cell_type": "code",
      "metadata": {
        "id": "sN2ahKHfbPRy",
        "outputId": "90cd03cb-8c5d-4a5b-c1e0-310cc34e7879",
        "colab": {
          "base_uri": "https://localhost:8080/"
        }
      },
      "source": [
        "# Let 1/((1/h_t) + (1/h_x)) be written as const_steps\n",
        "const_steps = 1/(1/h_t + 1/h_x)\n",
        "\n",
        "for i in range(1, N_y + 1):\n",
        "  for j in range(1, N_x + 1):\n",
        "    matrix[i][j] = round( calculate_node(i,j,const_steps, x_0+h_x*j, t_0 + h_t*i,matrix) ,3) # round 3 digits after comma\n",
        "print(matrix)"
      ],
      "execution_count": 79,
      "outputs": [
        {
          "output_type": "stream",
          "text": [
            "[[0.    0.1   0.2   0.3   0.4   0.5   0.6   0.7   0.8   0.9   1.   ]\n",
            " [0.1   0.1   0.145 0.213 0.292 0.376 0.463 0.552 0.641 0.73  0.82 ]\n",
            " [0.2   0.145 0.14  0.169 0.22  0.283 0.354 0.43  0.508 0.587 0.667]\n",
            " [0.3   0.213 0.169 0.162 0.183 0.222 0.274 0.334 0.4   0.468 0.538]\n",
            " [0.4   0.292 0.22  0.183 0.175 0.189 0.22  0.263 0.315 0.372 0.432]\n",
            " [0.5   0.376 0.283 0.222 0.189 0.18  0.191 0.216 0.252 0.296 0.345]\n",
            " [0.6   0.463 0.354 0.274 0.22  0.191 0.182 0.189 0.21  0.24  0.278]\n",
            " [0.7   0.552 0.43  0.334 0.263 0.216 0.189 0.18  0.186 0.202 0.228]\n",
            " [0.8   0.641 0.508 0.4   0.315 0.252 0.21  0.186 0.177 0.18  0.194]\n",
            " [0.9   0.73  0.587 0.468 0.372 0.296 0.24  0.202 0.18  0.171 0.174]\n",
            " [1.    0.82  0.667 0.538 0.432 0.345 0.278 0.228 0.194 0.174 0.165]]\n"
          ],
          "name": "stdout"
        }
      ]
    }
  ]
}