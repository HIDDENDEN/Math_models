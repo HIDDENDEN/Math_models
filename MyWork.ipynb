{
  "nbformat": 4,
  "nbformat_minor": 0,
  "metadata": {
    "colab": {
      "name": "MyWork.ipynb",
      "provenance": [],
      "collapsed_sections": [],
      "mount_file_id": "1joemW8ye__Q1_RhM0432FbtW2JaBE8V8",
      "authorship_tag": "ABX9TyMxslVWyW6dRydDKnxF9nSj",
      "include_colab_link": true
    },
    "kernelspec": {
      "name": "python3",
      "display_name": "Python 3"
    }
  },
  "cells": [
    {
      "cell_type": "markdown",
      "metadata": {
        "id": "view-in-github",
        "colab_type": "text"
      },
      "source": [
        "<a href=\"https://colab.research.google.com/github/HIDDENDEN/Math_models/blob/main/MyWork.ipynb\" target=\"_parent\"><img src=\"https://colab.research.google.com/assets/colab-badge.svg\" alt=\"Open In Colab\"/></a>"
      ]
    },
    {
      "cell_type": "markdown",
      "metadata": {
        "id": "4YGAxUpyNn6U"
      },
      "source": [
        "Importing template ...\n"
      ]
    },
    {
      "cell_type": "code",
      "metadata": {
        "id": "4mN1h18Jx8gq"
      },
      "source": [
        "# !cp \"drive/My Drive/Science_res/TestClass.py\" .\n",
        "# import TestClass\n"
      ],
      "execution_count": null,
      "outputs": []
    },
    {
      "cell_type": "code",
      "metadata": {
        "id": "cO1Ybw7tt4z5"
      },
      "source": [
        "# test = TestClass.Vehicle(1,1,1)"
      ],
      "execution_count": null,
      "outputs": []
    },
    {
      "cell_type": "code",
      "metadata": {
        "id": "-nY2zVEwu6ut"
      },
      "source": [
        "# print(test.brake())"
      ],
      "execution_count": null,
      "outputs": []
    },
    {
      "cell_type": "markdown",
      "metadata": {
        "id": "WQ6jKBQmNyUt"
      },
      "source": [
        "import my classes"
      ]
    },
    {
      "cell_type": "code",
      "metadata": {
        "id": "xb6JxSIHN9fG"
      },
      "source": [
        "!cp \"drive/My Drive/Science_res/At.py\" .\n",
        "import At\n",
        "\n",
        "!cp \"drive/My Drive/Science_res/Fiu.py\" .\n",
        "import Fiu\n",
        "\n",
        "!cp \"drive/My Drive/Science_res/Alphax.py\" .\n",
        "import Alphax\n",
        "\n",
        "!cp \"drive/My Drive/Science_res/Kcit.py\" .\n",
        "import Kcit\n"
      ],
      "execution_count": null,
      "outputs": []
    },
    {
      "cell_type": "markdown",
      "metadata": {
        "id": "nPbzFN-fX9qs"
      },
      "source": [
        "initialize functions"
      ]
    },
    {
      "cell_type": "code",
      "metadata": {
        "id": "8UKD0qJIYDJj"
      },
      "source": [
        "a_t = At.A_t()\n",
        "kci_t = Kcit.Kci_t()\n",
        "fi_u = Fiu.Fi_t()\n",
        "alpha_x = Alphax.Alpha_x()"
      ],
      "execution_count": null,
      "outputs": []
    },
    {
      "cell_type": "markdown",
      "metadata": {
        "id": "uu8sSA0fSAle"
      },
      "source": [
        "Import needed libs"
      ]
    },
    {
      "cell_type": "code",
      "metadata": {
        "id": "2_idaG_2SC7e"
      },
      "source": [
        "import numpy as np\n",
        "np.set_printoptions(linewidth=np.inf)# no extra newlines in output\n",
        "\n",
        "import math\n"
      ],
      "execution_count": 37,
      "outputs": []
    },
    {
      "cell_type": "markdown",
      "metadata": {
        "id": "lrCkxh7IQNuG"
      },
      "source": [
        "Set steps size of X axys and T axys\n",
        "\n",
        "\n",
        "And *x_0* , *t_0*"
      ]
    },
    {
      "cell_type": "code",
      "metadata": {
        "id": "RYLfXbRyQZzT"
      },
      "source": [
        "# Test L = 1 and T = 1\n",
        "# Test num_of_steps N_x = 10 , N_t = 10\n",
        "L = 1\n",
        "T = 1\n",
        "N_x = 10\n",
        "N_t = 10\n",
        "\n",
        "h_x = L/N_x\n",
        "h_t = T/N_t\n",
        "\n",
        "#Test segment 0 <= x <= 1\n",
        "#Test segment 0 <= t <= 1\n",
        "\n",
        "x_0 = 0\n",
        "t_0 = 0"
      ],
      "execution_count": null,
      "outputs": []
    },
    {
      "cell_type": "markdown",
      "metadata": {
        "id": "7BM7KVUo9-x-"
      },
      "source": [
        "# **Method 1**"
      ]
    },
    {
      "cell_type": "markdown",
      "metadata": {
        "id": "kRvp8-OsRrfH"
      },
      "source": [
        "**Initialize two dim matrix for data storage**"
      ]
    },
    {
      "cell_type": "code",
      "metadata": {
        "id": "_jMqm3W5R0Uy"
      },
      "source": [
        "matrix = np.zeros((N_x + 1,N_t + 1))"
      ],
      "execution_count": null,
      "outputs": []
    },
    {
      "cell_type": "markdown",
      "metadata": {
        "id": "XseSKSFgUfOK"
      },
      "source": [
        "**Filling matrix with border conditions**"
      ]
    },
    {
      "cell_type": "code",
      "metadata": {
        "id": "Dh-ixWrbXDPd",
        "outputId": "3890c70f-ff71-4682-bcc6-ec06f3d0b7c3",
        "colab": {
          "base_uri": "https://localhost:8080/"
        }
      },
      "source": [
        "# First row filled with alpha(x_j)\n",
        "for j in range(0, N_x+1):\n",
        "  matrix[0][j] = alpha_x.compute(x_0 + h_x*j)\n",
        "\n",
        "# First colomn filled with kci(t_i)\n",
        "for i in range(0, N_t+1):\n",
        "  matrix[i][0] = kci_t.compute(t_0 + h_t*i)\n",
        "\n",
        "print(matrix)"
      ],
      "execution_count": null,
      "outputs": [
        {
          "output_type": "stream",
          "text": [
            "[[0.  1.9 1.8 1.7 1.6 1.5 1.4 1.3 1.2 1.1 1. ]\n",
            " [0.1 0.  0.  0.  0.  0.  0.  0.  0.  0.  0. ]\n",
            " [0.2 0.  0.  0.  0.  0.  0.  0.  0.  0.  0. ]\n",
            " [0.3 0.  0.  0.  0.  0.  0.  0.  0.  0.  0. ]\n",
            " [0.4 0.  0.  0.  0.  0.  0.  0.  0.  0.  0. ]\n",
            " [0.5 0.  0.  0.  0.  0.  0.  0.  0.  0.  0. ]\n",
            " [0.6 0.  0.  0.  0.  0.  0.  0.  0.  0.  0. ]\n",
            " [0.7 0.  0.  0.  0.  0.  0.  0.  0.  0.  0. ]\n",
            " [0.8 0.  0.  0.  0.  0.  0.  0.  0.  0.  0. ]\n",
            " [0.9 0.  0.  0.  0.  0.  0.  0.  0.  0.  0. ]\n",
            " [1.  0.  0.  0.  0.  0.  0.  0.  0.  0.  0. ]]\n"
          ],
          "name": "stdout"
        }
      ]
    },
    {
      "cell_type": "markdown",
      "metadata": {
        "id": "bDzOsIric4Ce"
      },
      "source": [
        "*Define function for matrix computing*"
      ]
    },
    {
      "cell_type": "code",
      "metadata": {
        "id": "GRSZqf9oc-bj"
      },
      "source": [
        "# def calculate_node(i,j,const_steps,x_i,t_j,matrix):\n",
        "  # return (const_steps * (matrix[i][j-1]/h_t + matrix[i-1][j]/h_x - a_t.compute(t_j-h_t)*fi_u.compute(matrix[i-1][j-1]) ) )\n",
        "def calculate_node(i, j, h_x, h_t, x_i, t_j, matrix):\n",
        "  return (h_t * ( ( 1/h_x )*matrix[i-1][j] - (1/h_x - 1/h_t)*matrix[i][j] - a_t.compute(t_j)*fi_u.compute(matrix[i][j]) ) )\n"
      ],
      "execution_count": null,
      "outputs": []
    },
    {
      "cell_type": "markdown",
      "metadata": {
        "id": "QFWydPdza_xO"
      },
      "source": [
        "**Compute whole matrix**"
      ]
    },
    {
      "cell_type": "code",
      "metadata": {
        "id": "sN2ahKHfbPRy",
        "outputId": "6cc3aa38-ce88-4e42-d976-0c21d9606641",
        "colab": {
          "base_uri": "https://localhost:8080/"
        }
      },
      "source": [
        "# Let 1/((1/h_t) + (1/h_x)) be written as const_steps\n",
        "# const_steps = 1/(1/h_t + 1/h_x)\n",
        "\n",
        "for i in range(0, (N_t - 1) + 1):   # t defines rows\n",
        "  for j in range(1, (N_x) + 1):     # x defines colomns\n",
        "    matrix[i+1][j] = round( calculate_node(i,j, h_x, h_t, x_0+h_x*j, t_0 + h_t*i,matrix) ,3) # round 3 digits after comma\n",
        "\n",
        "print(matrix)"
      ],
      "execution_count": null,
      "outputs": [
        {
          "output_type": "stream",
          "text": [
            "[[ 0.     1.9    1.8    1.7    1.6    1.5    1.4    1.3    1.2    1.1    1.   ]\n",
            " [ 0.1   -0.19  -0.18  -0.17  -0.16  -0.15  -0.14  -0.13  -0.12  -0.11  -0.1  ]\n",
            " [ 0.2    1.919  1.818  1.717  1.616  1.515  1.414  1.313  1.212  1.111  1.01 ]\n",
            " [ 0.3   -0.382 -0.362 -0.342 -0.322 -0.302 -0.281 -0.261 -0.241 -0.221 -0.201]\n",
            " [ 0.4    1.957  1.854  1.751  1.648  1.545  1.442  1.339  1.236  1.133  1.03 ]\n",
            " [ 0.5   -0.578 -0.547 -0.517 -0.487 -0.456 -0.425 -0.395 -0.365 -0.334 -0.304]\n",
            " [ 0.6    2.015  1.909  1.803  1.697  1.591  1.485  1.378  1.272  1.166  1.06 ]\n",
            " [ 0.7   -0.78  -0.738 -0.697 -0.657 -0.615 -0.574 -0.533 -0.492 -0.451 -0.41 ]\n",
            " [ 0.8    2.093  1.983  1.873  1.763  1.652  1.542  1.431  1.321  1.211  1.101]\n",
            " [ 0.9   -0.989 -0.936 -0.884 -0.833 -0.78  -0.728 -0.676 -0.624 -0.572 -0.52 ]\n",
            " [ 1.     2.192  2.077  1.961  1.846  1.73   1.615  1.499  1.383  1.268  1.153]]\n"
          ],
          "name": "stdout"
        }
      ]
    },
    {
      "cell_type": "code",
      "metadata": {
        "id": "NrjDoLFUdZ7u"
      },
      "source": [
        "# print((matrix[:][1]))\n",
        "# print((matrix[:][1])[3])"
      ],
      "execution_count": null,
      "outputs": []
    },
    {
      "cell_type": "markdown",
      "metadata": {
        "id": "RpWYBlVNX7Z0"
      },
      "source": [
        "**Drawing section**"
      ]
    },
    {
      "cell_type": "code",
      "metadata": {
        "id": "bCebQntRYBQa"
      },
      "source": [
        "# We'll draw using matplot lib\n",
        "# importing the library \n",
        "import matplotlib.pyplot as plt  \n"
      ],
      "execution_count": null,
      "outputs": []
    },
    {
      "cell_type": "markdown",
      "metadata": {
        "id": "MCrA6uDpeGL2"
      },
      "source": [
        "*Drawing for U(x, t_const)*"
      ]
    },
    {
      "cell_type": "code",
      "metadata": {
        "id": "4T5qnPAWa7Ly"
      },
      "source": [
        "#data to be plotted\n",
        "x = np.arange(x_0, x_0 + (N_x + 1)*h_x, h_x)\n",
        "\n",
        "#set starting iteration ( i ) for t_i\n",
        "#(selecting rows)\n",
        "startIterationFor_t_i = 0\n",
        "#set what num of first from t_i you want to display\n",
        "num_of_graphs_rows = 5\n",
        "\n",
        "for startIterationFor_t_i in range(num_of_graphs_rows):\n",
        "  u = matrix[startIterationFor_t_i]\n",
        "  #plotting\n",
        "  plt.title(\"U(x, t_\"+str(startIterationFor_t_i)+\")\")\n",
        "  plt.xlabel(\"X axis\")\n",
        "  plt.ylabel(\"U(x, t_\" +str(startIterationFor_t_i)+\") axis\")\n",
        "  #show all x values\n",
        "  plt.xticks(x)\n",
        "  #set y axis fixed size\n",
        "  axes = plt.axes()\n",
        "  # axes.set_ylim([0, 4])\n",
        "  #draw\n",
        "  plt.plot(x,u, linestyle='--', marker='o', color = \"red\")\n",
        "  plt.show()\n",
        "\n"
      ],
      "execution_count": null,
      "outputs": []
    },
    {
      "cell_type": "markdown",
      "metadata": {
        "id": "MUEkUj_KeTNo"
      },
      "source": [
        "*Drawing for U(x_const, t)*"
      ]
    },
    {
      "cell_type": "code",
      "metadata": {
        "id": "HFSApvIwegeH"
      },
      "source": [
        "#data to be plotted\n",
        "t = np.arange(t_0, t_0 + (N_t + 1)*h_t, h_t)\n",
        "\n",
        "#set starting iteration ( j ) for x_j\n",
        "#(selecting colomns)\n",
        "startIterationFor_x_j = 0\n",
        "#set what num of first from x_j you want to display\n",
        "num_of_graphs_coloms = 5\n",
        "\n",
        "\n",
        "for startIterationFor_x_j in range(num_of_graphs_coloms):\n",
        "  u = matrix[:][startIterationFor_x_j]\n",
        "  #plotting\n",
        "  plt.title(\"U(x_\"+str(startIterationFor_x_j)+\", t)\")\n",
        "  plt.xlabel(\"T axis\")\n",
        "  plt.ylabel(\"U(x_\" +str(startIterationFor_x_j)+\", t) axis\")\n",
        "  #show all x values\n",
        "  plt.xticks(t)\n",
        "  #set y axis fixed size\n",
        "  axes = plt.axes()\n",
        "  # axes.set_ylim([0, 4])\n",
        "  #draw\n",
        "  plt.plot(x,u, linestyle='--', marker='o', color = \"blue\")\n",
        "  plt.show()"
      ],
      "execution_count": null,
      "outputs": []
    },
    {
      "cell_type": "markdown",
      "metadata": {
        "id": "JlC7ga_vnXll"
      },
      "source": [
        "# **#3rd Method**"
      ]
    },
    {
      "cell_type": "markdown",
      "metadata": {
        "id": "3mPzQZlfsbGc"
      },
      "source": [
        "**initialize two dim matrix for data storage on previous and current steps**"
      ]
    },
    {
      "cell_type": "code",
      "metadata": {
        "id": "afYbNrB1tEao"
      },
      "source": [
        "from copy import copy, deepcopy"
      ],
      "execution_count": null,
      "outputs": []
    },
    {
      "cell_type": "code",
      "metadata": {
        "id": "KH6VC4odsMgs"
      },
      "source": [
        "matrix_prev = np.zeros((N_x + 1,N_t + 1))\n",
        "matrix_prev = deepcopy(matrix)\n",
        "\n",
        "matrix_cur = np.zeros((N_x + 1,N_t + 1))"
      ],
      "execution_count": null,
      "outputs": []
    },
    {
      "cell_type": "markdown",
      "metadata": {
        "id": "guCccU_en7Ui"
      },
      "source": [
        "Calculate integral (for method 3)\n",
        "---\n",
        "from a to b (f(x) dx)\n",
        "\n"
      ]
    },
    {
      "cell_type": "code",
      "metadata": {
        "id": "9_yutADmpviE"
      },
      "source": [
        "#calculate integral on simple segment\n",
        "def integral_on_simple_segment(c,d,h, f, x_i,t_j):\n",
        "  middle_point = (c+d)/2\n",
        "\n",
        "  approximated_index_i = int(round(middle_point,0)) #for taking value from counted matrix\n",
        "  approximated_index_j = int(round(middle_point - x_i + t_j)) #for taking value from counted matrix\n",
        "  return h* ( a_t.compute(middle_point) * fi_u.compute( f[approximated_index_i][approximated_index_j])   )"
      ],
      "execution_count": null,
      "outputs": []
    },
    {
      "cell_type": "code",
      "metadata": {
        "id": "YONyrxDAoZcy"
      },
      "source": [
        "def integral_A_to_B(a,b,f, x_i, t_j):\n",
        "  #define num of steps for calculating integral on segment\n",
        "  num_of_steps = 10\n",
        "\n",
        "  ret_value = 0.0\n",
        "  h=(b-a)/num_of_steps\n",
        "\n",
        "  for j in range(num_of_steps):\n",
        "    ret_value+=integral_on_simple_segment(a+j*h, a+(j+1)*h, h, f, x_i, t_j)\n",
        "  \n",
        "  return ret_value\n"
      ],
      "execution_count": null,
      "outputs": []
    },
    {
      "cell_type": "markdown",
      "metadata": {
        "id": "P4qfKVPPsGVH"
      },
      "source": [
        "### *Iteration scheme implementation*"
      ]
    },
    {
      "cell_type": "markdown",
      "metadata": {
        "id": "jr0yb5DRtc5C"
      },
      "source": [
        "**set num of iterations**"
      ]
    },
    {
      "cell_type": "code",
      "metadata": {
        "id": "KBJhsTpOtZhm"
      },
      "source": [
        "num_of_iterations = 100"
      ],
      "execution_count": null,
      "outputs": []
    },
    {
      "cell_type": "markdown",
      "metadata": {
        "id": "ruX_06HZtlAv"
      },
      "source": [
        "**start calculations**"
      ]
    },
    {
      "cell_type": "code",
      "metadata": {
        "id": "x-3GwRFOtzAS",
        "outputId": "6243b715-fb59-4b49-ddd2-5696a2894d59",
        "colab": {
          "base_uri": "https://localhost:8080/"
        }
      },
      "source": [
        "#calculating U_(n+1) = f(U_n)\n",
        "for steps in range(num_of_iterations):\n",
        "  for i in range(0,(N_t) + 1):  # t defines rows\n",
        "    for j in range(0, (N_x) + 1): # x defines colomns\n",
        "      #x_i\n",
        "      x_i=x_0+h_x*j\n",
        "      \n",
        "      #t_j \n",
        "      t_j = t_0 + h_t*i\n",
        "\n",
        "      if (t_j <= x_i):\n",
        "        matrix_cur[i][j] = alpha_x.compute(x_i - t_j) - integral_A_to_B(x_i - t_j, x_i,matrix_prev, x_i, t_j)\n",
        "      \n",
        "      else:\n",
        "        matrix_cur[i][j] = kci_t.compute(t_j - x_i) - integral_A_to_B(0,x_i,matrix_prev, x_i, t_j)\n",
        "      \n",
        "  matrix_prev=deepcopy(matrix_cur)\n",
        "\n",
        "print(matrix_cur)\n",
        "\n",
        "\n"
      ],
      "execution_count": null,
      "outputs": [
        {
          "output_type": "stream",
          "text": [
            "[[ 2.00000000e+00  1.90000000e+00  1.80000000e+00  1.70000000e+00  1.60000000e+00  1.50000000e+00  1.40000000e+00  1.30000000e+00  1.20000000e+00  1.10000000e+00  1.00000000e+00]\n",
            " [ 1.00000000e-01  1.80000000e+00  1.70000000e+00  1.60000000e+00  1.50000000e+00  1.40000000e+00  1.49000000e+00  1.39000000e+00  1.29000000e+00  1.19000000e+00  1.09000000e+00]\n",
            " [ 2.00000000e-01 -1.00000000e-01  1.60000000e+00  1.50000000e+00  1.40000000e+00  1.30000000e+00  1.39000000e+00  1.48000000e+00  1.38000000e+00  1.28000000e+00  1.18000000e+00]\n",
            " [ 3.00000000e-01  5.55111512e-17 -3.00000000e-01  1.40000000e+00  1.30000000e+00  1.20000000e+00  1.27100000e+00  1.39900000e+00  1.47000000e+00  1.37000000e+00  1.27000000e+00]\n",
            " [ 4.00000000e-01  1.00000000e-01 -2.00000000e-01 -5.00000000e-01  1.20000000e+00  1.10000000e+00  1.15200000e+00  1.28000000e+00  1.33200000e+00  1.46000000e+00  1.36000000e+00]\n",
            " [ 5.00000000e-01  2.00000000e-01 -1.00000000e-01 -4.00000000e-01 -7.00000000e-01  1.00000000e+00  1.09000000e+00  1.18000000e+00  1.27000000e+00  1.36000000e+00  1.45000000e+00]\n",
            " [ 6.00000000e-01  3.10000000e-01  1.00000000e-02 -2.91000000e-01 -5.88000000e-01 -8.90000000e-01  8.24000000e-01  8.38000000e-01  9.66000000e-01  1.09400000e+00  1.10800000e+00]\n",
            " [ 7.00000000e-01  4.10000000e-01  1.20000000e-01 -1.79000000e-01 -4.80000000e-01 -7.80000000e-01 -1.07000000e+00  6.42000000e-01  6.75000000e-01  8.41000000e-01  8.74000000e-01]\n",
            " [ 8.00000000e-01  5.10000000e-01  2.20000000e-01 -7.00000000e-02 -3.72000000e-01 -6.70000000e-01 -9.58000000e-01 -1.25100000e+00  4.64000000e-01  5.16000000e-01  5.68000000e-01]\n",
            " [ 9.00000000e-01  6.10000000e-01  3.20000000e-01  3.00000000e-02 -2.60000000e-01 -5.60000000e-01 -8.46000000e-01 -1.13700000e+00 -1.42800000e+00  2.72000000e-01  5.14000000e-01]\n",
            " [ 1.00000000e+00  7.10000000e-01  4.20000000e-01  1.30000000e-01 -1.60000000e-01 -4.50000000e-01 -7.40000000e-01 -1.03000000e+00 -1.32000000e+00 -1.61000000e+00  1.00000000e-01]]\n"
          ],
          "name": "stdout"
        }
      ]
    },
    {
      "cell_type": "markdown",
      "metadata": {
        "id": "rCYGWEnZzGjo"
      },
      "source": [
        "TEST!!!"
      ]
    },
    {
      "cell_type": "code",
      "metadata": {
        "id": "RwmRDyAmzEtI"
      },
      "source": [
        "#calculate integral on simple segment\n",
        "def integral_on_simple_segment_test(c,d,h, f, x_i,t_j, i ,j):\n",
        "  middle_point = (c+d)/2\n",
        "\n",
        "  # approximated_index_i = int(round(middle_point,0)) #for taking value from counted matrix\n",
        "  # approximated_index_j = int(round(middle_point - x_i + t_j)) #for taking value from counted matrix\n",
        "  return h* ( a_t.compute(middle_point) * fi_u.compute( f[i][j])   )\n",
        "  # return h * calculate_mean(f,c,d)"
      ],
      "execution_count": null,
      "outputs": []
    },
    {
      "cell_type": "code",
      "metadata": {
        "id": "UHoa7AYjzIXP"
      },
      "source": [
        "def integral_A_to_B_test(a,b,f, x_i, t_j):\n",
        "  #for x\n",
        "  j_start = int(round( (x_i-t_j - x_0)/h_x, 0))\n",
        "  j_finish = int (round( (x_i - x_0)/h_x, 0))\n",
        "\n",
        "  #for t\n",
        "  i_start = int(round( (0) , 0))\n",
        "  i_finish = int(round ( (t_j - t_0)/h_t , 0))\n",
        "  # i_finish = int(round ( (t_j + x_i - t_0)/h_t , 0))\n",
        "  \n",
        "  #define num of steps for calculating integral on segment\n",
        "  num_of_steps = j_finish - j_start\n",
        "\n",
        "  #difference in h_x and h_t step\n",
        "  diff = int(round(h_x/h_t,0))\n",
        "  \n",
        "\n",
        "  ret_value = 0.0\n",
        "  # h=(b-a)/num_of_steps\n",
        "\n",
        "  for j in range(num_of_steps):\n",
        "    ret_value+=integral_on_simple_segment_test(a+j*h_x, a+(j+1)*h_x, h_x, f, x_i, t_j, j_start+j, i_start+j*diff)\n",
        "    \n",
        "    \n",
        "\n",
        "  return ret_value\n"
      ],
      "execution_count": null,
      "outputs": []
    },
    {
      "cell_type": "code",
      "metadata": {
        "id": "FwEYWk0JzuXL",
        "outputId": "aeae90a1-62d3-4262-8946-e12f35706b43",
        "colab": {
          "base_uri": "https://localhost:8080/"
        }
      },
      "source": [
        "matrix_prev = np.zeros((N_x + 1,N_t + 1))\n",
        "matrix_prev = deepcopy(matrix)\n",
        "\n",
        "matrix_cur = np.zeros((N_x + 1,N_t + 1))\n",
        "#calculating U_(n+1) = f(U_n)\n",
        "for steps in range(num_of_iterations):\n",
        "  for i in range(0,(N_t) + 1):  # t defines rows\n",
        "    for j in range(0, (N_x) + 1): # x defines colomns\n",
        "      #x_i\n",
        "      x_i=x_0+h_x*j\n",
        "      \n",
        "      #t_j \n",
        "      t_j = t_0 + h_t*i\n",
        "\n",
        "      if (t_j <= x_i):\n",
        "        matrix_cur[i][j] = alpha_x.compute(x_i - t_j) - integral_A_to_B_test(x_i - t_j, x_i,matrix_prev, x_i, t_j)\n",
        "      \n",
        "      else:\n",
        "        matrix_cur[i][j] = kci_t.compute(t_j - x_i) - integral_A_to_B_test(0,x_i,matrix_prev, x_i, t_j)\n",
        "      \n",
        "  matrix_prev=deepcopy(matrix_cur)\n",
        "\n",
        "print(matrix_cur)\n"
      ],
      "execution_count": null,
      "outputs": [
        {
          "output_type": "stream",
          "text": [
            "[[ 2.          1.9         1.8         1.7         1.6         1.5         1.4         1.3         1.2         1.1         1.        ]\n",
            " [-0.10085081  1.8         1.91008508  1.81284845  1.70696227  1.59184622  1.46800157  1.33711579  1.20183362  1.06524163  0.93025775]\n",
            " [-0.12848449 -0.29085081  1.62        1.93917016  1.8436969   1.73092454  1.59969243  1.45100315  1.28823159  1.11666725  0.94248326]\n",
            " [-0.06962269 -0.30848449 -0.48185932  1.458       1.98735609  1.89267383  1.77195643  1.62345711  1.44868474  1.25271854  1.04351921]\n",
            " [ 0.08153784 -0.23962269 -0.48976934 -0.67577634  1.3122      2.05493373  1.96008773  1.83029757  1.66321871  1.46087636  1.23008781]\n",
            " [ 0.31998426 -0.07846216 -0.41031892 -0.67413903 -0.87451195  1.18098     2.14238492  2.04642838  1.90635827  1.71921488  1.48755483]\n",
            " [ 0.62884206  0.16998426 -0.23764678 -0.58341137 -0.86340641 -1.08000532  1.062882    2.25038545  2.15236989  2.00072194  1.79184324]\n",
            " [ 0.98166375  0.48884206  0.0231841  -0.39761602 -0.76060701 -1.05941518 -1.29424381  0.9565938   2.37980984  2.2787757   2.1141492 ]\n",
            " [ 1.34758368  0.85166375  0.35513048 -0.12191621 -0.55996173 -0.94363677 -1.26405802 -1.51928236  0.86093442  2.53173807  2.4267052 ]\n",
            " [ 1.69742245  1.22758368  0.73148039  0.22630732 -0.26678468 -0.7262836  -1.1342726  -1.47929501 -1.75726334  0.77484098  2.70746441]\n",
            " [ 2.00850812  1.58742245  1.12105952  0.61981367  0.10103547 -0.41287232 -0.89820509 -1.33434479 -1.70717258 -2.01043715  0.69735688]]\n"
          ],
          "name": "stdout"
        }
      ]
    },
    {
      "cell_type": "markdown",
      "metadata": {
        "id": "DJS7T9wkafYR"
      },
      "source": [
        "# **#2nd Method**"
      ]
    },
    {
      "cell_type": "markdown",
      "metadata": {
        "id": "voiWzhynaitu"
      },
      "source": [
        "## *Explicit computation scheme*"
      ]
    },
    {
      "cell_type": "markdown",
      "metadata": {
        "id": "tuCKCX_Sca7r"
      },
      "source": [
        "## ----------------------------------------"
      ]
    },
    {
      "cell_type": "markdown",
      "metadata": {
        "id": "nOk9l1Eqa3o7"
      },
      "source": [
        "*Calculating integral on simple segment*"
      ]
    },
    {
      "cell_type": "code",
      "metadata": {
        "id": "dReZFpguaxF4"
      },
      "source": [
        "#calculate integral on simple segment (for function a(s))\n",
        "def integral_on_simple_segment_method_2(c,d,h, f):\n",
        "  # c - start value\n",
        "  # d - end value\n",
        "  # h - step ( equals to: (d - c) )\n",
        "  middle_point = (c+d)/2\n",
        "\n",
        "  return h* f.compute(middle_point)"
      ],
      "execution_count": null,
      "outputs": []
    },
    {
      "cell_type": "markdown",
      "metadata": {
        "id": "0_eh6hlQbr_q"
      },
      "source": [
        "*Calculating integral on given segment from A to B*"
      ]
    },
    {
      "cell_type": "code",
      "metadata": {
        "id": "JDK1zSoRbrag"
      },
      "source": [
        "def integral_A_to_B_method_2(a,b,f):\n",
        "  #define num of steps for calculating integral on segment\n",
        "  num_of_steps = 10\n",
        "\n",
        "  ret_value = 0.0\n",
        "  h=(b-a)/num_of_steps\n",
        "\n",
        "  for j in range(num_of_steps):\n",
        "    ret_value+=integral_on_simple_segment_method_2(a+j*h, a+(j+1)*h, h, f)\n",
        "  \n",
        "  return ret_value"
      ],
      "execution_count": null,
      "outputs": []
    },
    {
      "cell_type": "markdown",
      "metadata": {
        "id": "kmupF3xZcepA"
      },
      "source": [
        "\n",
        "\n",
        "\n",
        "## ----------------------------------------"
      ]
    },
    {
      "cell_type": "markdown",
      "metadata": {
        "id": "S48fTUR3cmGV"
      },
      "source": [
        "## *Code block for implementing inverse function for fi(U)*"
      ]
    },
    {
      "cell_type": "markdown",
      "metadata": {
        "id": "38qfm_rjgzuh"
      },
      "source": [
        "*Setting grids*"
      ]
    },
    {
      "cell_type": "markdown",
      "metadata": {
        "id": "zo0V24YejA3g"
      },
      "source": [
        "x grid"
      ]
    },
    {
      "cell_type": "code",
      "metadata": {
        "id": "e7arGnQ8g44N",
        "outputId": "ff542f43-3425-4f52-f820-ec3fcfdfe742",
        "colab": {
          "base_uri": "https://localhost:8080/"
        }
      },
      "source": [
        "# x_grid range = x_grid_length   x_grid = [-1/2 * x_grid_length ; 1/2 * x_grid_length]\n",
        "x_grid_range = 10\n",
        "\n",
        "x_grid_length = x_grid_range * 2 #for minus values\n",
        "\n",
        "x_grid_length_for_array_implementation = x_grid_length + 1\n",
        "x_grid = np.zeros(x_grid_length_for_array_implementation)\n",
        "for j in range(x_grid_length_for_array_implementation):\n",
        "\n",
        "  x_grid[j] = j - (1/2) * x_grid_length\n",
        "\n",
        "print (x_grid)"
      ],
      "execution_count": null,
      "outputs": [
        {
          "output_type": "stream",
          "text": [
            "[-10.  -9.  -8.  -7.  -6.  -5.  -4.  -3.  -2.  -1.   0.   1.   2.   3.   4.   5.   6.   7.   8.   9.  10.]\n"
          ],
          "name": "stdout"
        }
      ]
    },
    {
      "cell_type": "markdown",
      "metadata": {
        "id": "yNVOIcikjESa"
      },
      "source": [
        "y grid"
      ]
    },
    {
      "cell_type": "code",
      "metadata": {
        "id": "k9X-LdnBjGBF",
        "outputId": "366e574a-22a6-498b-9721-46354d70c349",
        "colab": {
          "base_uri": "https://localhost:8080/"
        }
      },
      "source": [
        "# y_grid range = y_grid_length   y_grid = [-1/2 * y_grid_length ; 1/2 * y_grid_length]\n",
        "y_grid_range = 100\n",
        "\n",
        "y_grid_length = y_grid_range * 2\n",
        "\n",
        "y_grid_length_for_array_implementation = y_grid_length + 1\n",
        "y_grid = np.zeros(y_grid_length_for_array_implementation)\n",
        "for j in range(y_grid_length_for_array_implementation):\n",
        "\n",
        "  y_grid[j] = j - (1/2) * y_grid_length\n",
        "\n",
        "print (y_grid)"
      ],
      "execution_count": null,
      "outputs": [
        {
          "output_type": "stream",
          "text": [
            "[-100.  -99.  -98.  -97.  -96.  -95.  -94.  -93.  -92.  -91.  -90.  -89.  -88.  -87.  -86.  -85.  -84.  -83.  -82.  -81.  -80.  -79.  -78.  -77.  -76.  -75.  -74.  -73.  -72.  -71.  -70.  -69.  -68.  -67.  -66.  -65.  -64.  -63.  -62.  -61.  -60.  -59.  -58.  -57.  -56.  -55.  -54.  -53.  -52.  -51.  -50.  -49.  -48.  -47.  -46.  -45.  -44.  -43.  -42.  -41.  -40.  -39.  -38.  -37.  -36.  -35.  -34.  -33.  -32.  -31.  -30.  -29.  -28.  -27.  -26.  -25.  -24.  -23.  -22.  -21.  -20.  -19.  -18.  -17.  -16.  -15.  -14.  -13.  -12.  -11.  -10.   -9.   -8.   -7.   -6.   -5.   -4.   -3.   -2.   -1.    0.    1.    2.    3.    4.    5.    6.    7.    8.    9.   10.   11.   12.   13.   14.   15.   16.   17.   18.   19.   20.   21.   22.   23.   24.   25.   26.   27.   28.   29.   30.   31.   32.   33.   34.   35.   36.   37.   38.   39.   40.   41.   42.   43.   44.   45.   46.   47.   48.   49.   50.   51.   52.   53.   54.   55.   56.   57.   58.   59.   60.   61.   62.   63.   64.   65.   66.   67.   68.   69.   70.   71.   72.   73.   74.   75.   76.   77.   78.   79.   80.   81.   82.   83.   84.   85.   86.   87.   88.   89.   90.   91.   92.   93.   94.   95.   96.   97.   98.   99.  100.]\n"
          ],
          "name": "stdout"
        }
      ]
    },
    {
      "cell_type": "markdown",
      "metadata": {
        "id": "68tYjoWsjvz9"
      },
      "source": [
        "Fill in the grid of function values fi_u (x)"
      ]
    },
    {
      "cell_type": "code",
      "metadata": {
        "id": "v_Dx8pa0k3qn"
      },
      "source": [
        "#structure for fi_u(x) values\n",
        "from dataclasses import dataclass\n",
        "\n",
        "\n",
        "class fi_u_struct:\n",
        "\n",
        "    def __init__(self, f_value , arg_value):\n",
        "      self.f_value = f_value\n",
        "      self.arg_value = arg_value\n",
        "\n",
        "    def get_f_value(self):\n",
        "      return self.f_value\n",
        "\n",
        "    def get_arg_value(self):\n",
        "      return self.arg_value\n",
        "    \n",
        "    def __str__(self):\n",
        "      return \"[ \"+str(self.f_value) + \" || \" + str(self.arg_value) + \" ];\""
      ],
      "execution_count": null,
      "outputs": []
    },
    {
      "cell_type": "code",
      "metadata": {
        "id": "457oa6Kojz7t"
      },
      "source": [
        "#uncounted values will be set as np.NaN\n",
        "\n",
        "#fi_u(x) values will be strored as a structure = {grid_value ; x that gave that result}\n",
        "\n",
        "init_array_struct = fi_u_struct(0.,0.)\n",
        "\n",
        "fi_u_grid  = np.empty(shape=(x_grid_length_for_array_implementation,), dtype=object)\n",
        "\n",
        "for j in range(x_grid_length_for_array_implementation):\n",
        "  arg = x_grid[j]\n",
        "  f_value = fi_u.compute(arg)\n",
        "\n",
        "  fi_u_grid[j] = fi_u_struct(f_value , arg)\n",
        "\n",
        "for j in range(x_grid_length_for_array_implementation):\n",
        "  print (fi_u_grid[j])\n"
      ],
      "execution_count": null,
      "outputs": []
    },
    {
      "cell_type": "markdown",
      "metadata": {
        "id": "mUjxV8rOuJ9I"
      },
      "source": [
        "Sorting fi_u grid by func values in ascending order"
      ]
    },
    {
      "cell_type": "code",
      "metadata": {
        "id": "SPSlErU-mlX-"
      },
      "source": [
        "list1 = fi_u_grid.tolist()\n",
        "list1.sort(key = lambda x: x.get_f_value(), reverse=False)\n",
        "# for j in range(x_grid_length_for_array_implementation):\n",
        "#   print (list1[j])\n",
        "\n",
        "fi_u_grid=np.array(list1)\n",
        "for j in range(x_grid_length_for_array_implementation):\n",
        "  print (fi_u_grid[j])"
      ],
      "execution_count": null,
      "outputs": []
    },
    {
      "cell_type": "markdown",
      "metadata": {
        "id": "8kj52Hg4oZkW"
      },
      "source": [
        "**Compute inverse function for fi(u)**"
      ]
    },
    {
      "cell_type": "code",
      "metadata": {
        "id": "E3S-4Ty-o2Bb"
      },
      "source": [
        "def search_left_index_fi_u_grid(value):\n",
        "  for i in range(len(fi_u_grid)):\n",
        "    if (fi_u_grid[i].get_f_value() <= value):# [ * | | value | | | |]\n",
        "      if ((i+1)<len(fi_u_grid)):# i not the right side of array\n",
        "        if (fi_u_grid[i+1].get_f_value() < value):\n",
        "          continue\n",
        "        else:\n",
        "          return i\n",
        "      else:# i the right side of array --- BAD SITUTION - THROW EXCEPTION(need to compute wider grid_fi_u)\n",
        "        raise ValueError('Need to compute wider grid_fi_u')\n",
        "    else:# i the left side of array bigger than value --- BAD SITUTION - THROW EXCEPTION(need to compute wider grid_fi_u)\n",
        "      raise ValueError('Need to compute wider grid_fi_u LEFT SIDE')\n"
      ],
      "execution_count": null,
      "outputs": []
    },
    {
      "cell_type": "code",
      "metadata": {
        "id": "YBVg9y_Bsh4_"
      },
      "source": [
        "def compute_weight(value, our_point, whole_dist_between_border_points):\n",
        "  return ( (abs(value - our_point)) / whole_dist_between_border_points)"
      ],
      "execution_count": null,
      "outputs": []
    },
    {
      "cell_type": "code",
      "metadata": {
        "id": "N-luLy4rogYA"
      },
      "source": [
        "def inverse_fi(y_0):\n",
        "  left_index = search_left_index_fi_u_grid(y_0)\n",
        "\n",
        "  #search left and right side distance ftom y_0   ---> this will form an impact that left and right points enter\n",
        "  left_point_value = fi_u_grid[left_index].get_f_value()\n",
        "  right_point_value = fi_u_grid[left_index + 1].get_f_value()\n",
        "\n",
        "  whole_dist_between_border_points = abs(right_point_value - left_point_value)\n",
        "\n",
        "  #compute weights\n",
        "  left_side_weight = compute_weight(y_0,left_point_value,whole_dist_between_border_points)\n",
        "\n",
        "  right_side_weight = compute_weight(y_0,right_point_value,whole_dist_between_border_points)\n",
        "\n",
        "  #compute return value\n",
        "  arg1 = fi_u_grid[left_index].get_arg_value()\n",
        "  weight_arg1 = (1 - left_side_weight)\n",
        "\n",
        "  arg2 = fi_u_grid[left_index + 1].get_arg_value()\n",
        "  weight_arg2 = (1 - right_side_weight)\n",
        "\n",
        "  return weight_arg1 * arg1   +  weight_arg2 * arg2\n",
        "\n",
        "\n",
        "\n"
      ],
      "execution_count": null,
      "outputs": []
    },
    {
      "cell_type": "markdown",
      "metadata": {
        "id": "zzhUw85k9fbJ"
      },
      "source": [
        "### ***Calculating U(x , t) values on the grid using method # 2***"
      ]
    },
    {
      "cell_type": "code",
      "metadata": {
        "id": "QIIMHb2o9wmU"
      },
      "source": [
        "matrix_method_3 = np.zeros((N_x + 1,N_t + 1))"
      ],
      "execution_count": 35,
      "outputs": []
    },
    {
      "cell_type": "code",
      "metadata": {
        "id": "U0bnnIjb_H80"
      },
      "source": [
        "# First row filled with alpha(x_j)\n",
        "for j in range(0, N_x+1):\n",
        "  matrix_method_3[0][j] = alpha_x.compute(x_0 + h_x*j)\n",
        "\n",
        "# First colomn filled with kci(t_i)\n",
        "for i in range(0, N_t+1):\n",
        "  matrix_method_3[i][0] = kci_t.compute(t_0 + h_t*i)\n",
        "\n",
        "print(matrix_method_3)"
      ],
      "execution_count": null,
      "outputs": []
    },
    {
      "cell_type": "markdown",
      "metadata": {
        "id": "SxdhJZE__Y4Y"
      },
      "source": [
        "*calculating entry point for inverse fi(u) function*"
      ]
    },
    {
      "cell_type": "code",
      "metadata": {
        "id": "_151JGy4_MRG"
      },
      "source": [
        "def calculate_point_1(x_j,t_i):#for situation 0 <= t <= x <= L\n",
        "  fi_calculated_from_alpha = fi_u.compute(alpha_x.compute(x_j - t_i))\n",
        "  \n",
        "  calculated_integral = integral_A_to_B_method_2(x_j - t_i, x_j, a_t)\n",
        "\n",
        "  return fi_calculated_from_alpha * math.exp( (-1) * calculated_integral )"
      ],
      "execution_count": 38,
      "outputs": []
    },
    {
      "cell_type": "code",
      "metadata": {
        "id": "3kHNcZiOCS8r"
      },
      "source": [
        "def calculate_point_2(x_j,t_i):#for situation 0 <= x <= t <= T\n",
        "  fi_calculated_from_kci = fi_u.compute( kci_t.compute(t_i - x_j) )\n",
        "  \n",
        "  calculated_integral = integral_A_to_B_method_2( 0, x_j, a_t )\n",
        "\n",
        "  return fi_calculated_from_kci * math.exp( (-1) * calculated_integral )"
      ],
      "execution_count": 39,
      "outputs": []
    },
    {
      "cell_type": "markdown",
      "metadata": {
        "id": "DvjMTCF3DJ-o"
      },
      "source": [
        "*Processing matrix*"
      ]
    },
    {
      "cell_type": "code",
      "metadata": {
        "id": "keD2Gg4TDIhP",
        "outputId": "e7a846d9-9032-459c-9c1c-9ad8ff8d8f4a",
        "colab": {
          "base_uri": "https://localhost:8080/"
        }
      },
      "source": [
        "for i in range(1, (N_t) + 1):   # t defines rows\n",
        "  for j in range(1, (N_x) + 1):     # x defines colomns\n",
        "\n",
        "    x_j = x_0 + j * h_x\n",
        "\n",
        "    t_i = t_0 + i * h_t\n",
        "\n",
        "    if (t_i <= x_j):#for situation 0 <= t <= x <= L\n",
        "      y_0 = calculate_point_1(x_j,t_i)\n",
        "      matrix[i][j] = round(inverse_fi(y_0),3)\n",
        "    \n",
        "    else:#for situation 0 <= x <= t <= T\n",
        "      y_0 = calculate_point_2(x_j,t_i)\n",
        "      matrix[i][j] = round(inverse_fi(y_0),3)\n",
        "\n",
        "print(matrix)"
      ],
      "execution_count": 40,
      "outputs": [
        {
          "output_type": "stream",
          "text": [
            "[[0.    1.9   1.8   1.7   1.6   1.5   1.4   1.3   1.2   1.1   1.   ]\n",
            " [0.1   1.81  1.719 1.629 1.538 1.448 1.357 1.267 1.176 1.086 0.995]\n",
            " [0.2   0.09  1.637 1.556 1.474 1.392 1.31  1.228 1.146 1.064 0.982]\n",
            " [0.3   0.181 0.082 1.482 1.408 1.333 1.259 1.185 1.111 1.037 0.963]\n",
            " [0.4   0.271 0.164 0.074 1.341 1.274 1.207 1.14  1.073 1.005 0.938]\n",
            " [0.5   0.362 0.246 0.148 0.067 1.213 1.152 1.092 1.031 0.97  0.91 ]\n",
            " [0.6   0.452 0.327 0.222 0.134 0.061 1.098 1.043 0.988 0.933 0.878]\n",
            " [0.7   0.543 0.409 0.296 0.201 0.121 0.055 0.993 0.944 0.894 0.844]\n",
            " [0.8   0.633 0.491 0.37  0.268 0.182 0.11  0.05  0.899 0.854 0.809]\n",
            " [0.9   0.724 0.573 0.444 0.335 0.243 0.165 0.099 0.045 0.813 0.772]\n",
            " [1.    0.814 0.655 0.519 0.402 0.303 0.22  0.149 0.09  0.041 0.736]]\n"
          ],
          "name": "stdout"
        }
      ]
    }
  ]
}