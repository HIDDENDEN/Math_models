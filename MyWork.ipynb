{
  "nbformat": 4,
  "nbformat_minor": 0,
  "metadata": {
    "colab": {
      "name": "MyWork.ipynb",
      "provenance": [],
      "collapsed_sections": [],
      "toc_visible": true,
      "mount_file_id": "1joemW8ye__Q1_RhM0432FbtW2JaBE8V8",
      "authorship_tag": "ABX9TyMX8Ud70tXD0aabRaIRJNbY",
      "include_colab_link": true
    },
    "kernelspec": {
      "name": "python3",
      "display_name": "Python 3"
    }
  },
  "cells": [
    {
      "cell_type": "markdown",
      "metadata": {
        "id": "view-in-github",
        "colab_type": "text"
      },
      "source": [
        "<a href=\"https://colab.research.google.com/github/HIDDENDEN/Math_models/blob/main/MyWork.ipynb\" target=\"_parent\"><img src=\"https://colab.research.google.com/assets/colab-badge.svg\" alt=\"Open In Colab\"/></a>"
      ]
    },
    {
      "cell_type": "markdown",
      "metadata": {
        "id": "4YGAxUpyNn6U"
      },
      "source": [
        "Importing template ...\n"
      ]
    },
    {
      "cell_type": "code",
      "metadata": {
        "id": "4mN1h18Jx8gq"
      },
      "source": [
        "# !cp \"drive/My Drive/Science_res/TestClass.py\" .\n",
        "# import TestClass\n",
        "\n",
        "# test = TestClass\n",
        "# !cp --help\n"
      ],
      "execution_count": 1,
      "outputs": []
    },
    {
      "cell_type": "code",
      "metadata": {
        "id": "cO1Ybw7tt4z5"
      },
      "source": [
        "# test = TestClass.Vehicle(1,1,1)"
      ],
      "execution_count": null,
      "outputs": []
    },
    {
      "cell_type": "code",
      "metadata": {
        "id": "-nY2zVEwu6ut",
        "outputId": "e7b69729-f5c2-4306-b2aa-87b741c8dee0",
        "colab": {
          "base_uri": "https://localhost:8080/"
        }
      },
      "source": [
        "# print(test.brake())"
      ],
      "execution_count": null,
      "outputs": [
        {
          "output_type": "stream",
          "text": [
            "Braking\n"
          ],
          "name": "stdout"
        }
      ]
    },
    {
      "cell_type": "markdown",
      "metadata": {
        "id": "WQ6jKBQmNyUt"
      },
      "source": [
        "include my classes"
      ]
    },
    {
      "cell_type": "code",
      "metadata": {
        "id": "xb6JxSIHN9fG"
      },
      "source": [
        "!cp \"drive/My Drive/Science_res/At.py\" .\n",
        "import At\n",
        "\n",
        "!cp \"drive/My Drive/Science_res/Fiu.py\" .\n",
        "import Fiu\n",
        "\n",
        "!cp \"drive/My Drive/Science_res/Alphax.py\" .\n",
        "import Alphax\n",
        "\n",
        "!cp \"drive/My Drive/Science_res/Kcit.py\" .\n",
        "import Kcit"
      ],
      "execution_count": 14,
      "outputs": []
    }
  ]
}